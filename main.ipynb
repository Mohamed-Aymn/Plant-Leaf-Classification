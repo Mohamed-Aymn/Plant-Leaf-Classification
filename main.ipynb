{
 "cells": [
  {
   "cell_type": "code",
   "execution_count": 278,
   "metadata": {},
   "outputs": [],
   "source": [
    "import cv2\n",
    "import matplotlib.pyplot as plt\n",
    "import numpy as np\n"
   ]
  },
  {
   "cell_type": "code",
   "execution_count": 279,
   "metadata": {},
   "outputs": [],
   "source": [
    "# import images\n",
    "image = cv2.imread('_Output/Alstonia_Scholaris_(P2)/0003_0001.JPG', cv2.IMREAD_GRAYSCALE)\n"
   ]
  },
  {
   "cell_type": "code",
   "execution_count": 280,
   "metadata": {},
   "outputs": [],
   "source": [
    "def contrast_adjustment(image):\n",
    "    # alpha increases contrast without changing brightness\n",
    "    modified_image = cv2.convertScaleAbs(image, alpha=7, beta=-100)  \n",
    "\n",
    "    # Normalize the image to the range 0-255 for display\n",
    "    modified_image = cv2.normalize(modified_image, None, 0, 255, cv2.NORM_MINMAX)\n",
    "\n",
    "    cv2.imshow('Equalized', modified_image)\n",
    "    cv2.waitKey(0)\n",
    "    cv2.destroyAllWindows()\n",
    "    return modified_image\n"
   ]
  },
  {
   "cell_type": "code",
   "execution_count": 281,
   "metadata": {},
   "outputs": [],
   "source": [
    "def noise_reduction(image):\n",
    "    modified_image = cv2.medianBlur(image, 7)\n",
    "    cv2.imshow('Blurred', modified_image)\n",
    "    cv2.waitKey(0)\n",
    "    cv2.destroyAllWindows()\n",
    "    return modified_image\n"
   ]
  },
  {
   "cell_type": "code",
   "execution_count": 282,
   "metadata": {},
   "outputs": [],
   "source": [
    "def segmentation(image):\n",
    "    # Apply a binary threshold to segment the plant (adjust the threshold value as needed)\n",
    "    _, modified_image = cv2.threshold(image, 200, 255, cv2.THRESH_BINARY)\n",
    "\n",
    "    # Display the thresholded and cleaned image (optional)\n",
    "    cv2.imshow('Thresholded Leaf Region', modified_image)\n",
    "    cv2.waitKey(0)\n",
    "    cv2.destroyAllWindows()\n",
    "\n",
    "    trial_image = cv2.Canny(image, 100, 200)\n",
    "    cv2.imshow('trial_image', trial_image)\n",
    "    cv2.waitKey(0)\n",
    "    cv2.destroyAllWindows()\n",
    "\n",
    "\n",
    "    return modified_image\n"
   ]
  },
  {
   "cell_type": "code",
   "execution_count": 283,
   "metadata": {},
   "outputs": [],
   "source": [
    "# morphological operations\n",
    "def improvement(image):\n",
    "    kernel = np.ones((10, 10), np.uint8)  # Define a kernel for morphological operations\n",
    "    modified_image = cv2.morphologyEx(image, cv2.MORPH_OPEN, kernel)\n",
    "\n",
    "    cv2.imshow('morpholgoical operations', modified_image)\n",
    "    cv2.waitKey(0)\n",
    "    cv2.destroyAllWindows()\n",
    "\n",
    "    return modified_image\n"
   ]
  },
  {
   "cell_type": "code",
   "execution_count": 284,
   "metadata": {},
   "outputs": [],
   "source": [
    "# excution\n",
    "image = contrast_adjustment(image)\n",
    "image = noise_reduction(image)\n",
    "image = segmentation(image)\n",
    "image = improvement(image)\n",
    "\n",
    "# cv2.imshow('after all', image)\n",
    "# cv2.waitKey(0)\n",
    "# cv2.destroyAllWindows()\n",
    "\n"
   ]
  }
 ],
 "metadata": {
  "kernelspec": {
   "display_name": "myenv",
   "language": "python",
   "name": "python3"
  },
  "language_info": {
   "codemirror_mode": {
    "name": "ipython",
    "version": 3
   },
   "file_extension": ".py",
   "mimetype": "text/x-python",
   "name": "python",
   "nbconvert_exporter": "python",
   "pygments_lexer": "ipython3",
   "version": "3.12.6"
  }
 },
 "nbformat": 4,
 "nbformat_minor": 2
}
